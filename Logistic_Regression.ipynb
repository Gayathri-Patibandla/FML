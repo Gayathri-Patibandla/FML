{
  "nbformat": 4,
  "nbformat_minor": 0,
  "metadata": {
    "colab": {
      "provenance": [],
      "authorship_tag": "ABX9TyOOsIG47gDmp7Mu7xT0WCkl",
      "include_colab_link": true
    },
    "kernelspec": {
      "name": "python3",
      "display_name": "Python 3"
    },
    "language_info": {
      "name": "python"
    }
  },
  "cells": [
    {
      "cell_type": "markdown",
      "metadata": {
        "id": "view-in-github",
        "colab_type": "text"
      },
      "source": [
        "<a href=\"https://colab.research.google.com/github/Gayathri-Patibandla/FML/blob/main/Logistic_Regression.ipynb\" target=\"_parent\"><img src=\"https://colab.research.google.com/assets/colab-badge.svg\" alt=\"Open In Colab\"/></a>"
      ]
    },
    {
      "cell_type": "markdown",
      "source": [
        "Importing libraries"
      ],
      "metadata": {
        "id": "cEuY0NtnzzCf"
      }
    },
    {
      "cell_type": "code",
      "execution_count": 2,
      "metadata": {
        "id": "jN8neC98ifr2"
      },
      "outputs": [],
      "source": [
        "import matplotlib.pyplot as plt\n",
        "import numpy as np\n",
        "import pandas as pd\n",
        "from sklearn.linear_model import LogisticRegression\n",
        "from sklearn.metrics import classification_report, confusion_matrix"
      ]
    },
    {
      "cell_type": "markdown",
      "source": [
        "Reading the Dataset"
      ],
      "metadata": {
        "id": "PDUVM8_Qz7aQ"
      }
    },
    {
      "cell_type": "code",
      "source": [
        "d=pd.read_csv(\"/content/data.csv\")\n",
        "d.head()"
      ],
      "metadata": {
        "colab": {
          "base_uri": "https://localhost:8080/",
          "height": 204
        },
        "id": "toKz_cX1jTBw",
        "outputId": "4826f45a-3111-4f1a-f870-bc139ea5ac52"
      },
      "execution_count": 19,
      "outputs": [
        {
          "output_type": "execute_result",
          "data": {
            "text/plain": [
              "   SNo       X_1       X_2  y \n",
              "0    0 -0.869144  0.389310   0\n",
              "1    1 -0.993467 -0.610591   0\n",
              "2    2 -0.834064  0.239236   0\n",
              "3    3 -0.136471  0.632003   1\n",
              "4    4  0.403887  0.310784   1"
            ],
            "text/html": [
              "\n",
              "  <div id=\"df-97d08369-0af1-4712-9b0f-e9a2462ea201\">\n",
              "    <div class=\"colab-df-container\">\n",
              "      <div>\n",
              "<style scoped>\n",
              "    .dataframe tbody tr th:only-of-type {\n",
              "        vertical-align: middle;\n",
              "    }\n",
              "\n",
              "    .dataframe tbody tr th {\n",
              "        vertical-align: top;\n",
              "    }\n",
              "\n",
              "    .dataframe thead th {\n",
              "        text-align: right;\n",
              "    }\n",
              "</style>\n",
              "<table border=\"1\" class=\"dataframe\">\n",
              "  <thead>\n",
              "    <tr style=\"text-align: right;\">\n",
              "      <th></th>\n",
              "      <th>SNo</th>\n",
              "      <th>X_1</th>\n",
              "      <th>X_2</th>\n",
              "      <th>y</th>\n",
              "    </tr>\n",
              "  </thead>\n",
              "  <tbody>\n",
              "    <tr>\n",
              "      <th>0</th>\n",
              "      <td>0</td>\n",
              "      <td>-0.869144</td>\n",
              "      <td>0.389310</td>\n",
              "      <td>0</td>\n",
              "    </tr>\n",
              "    <tr>\n",
              "      <th>1</th>\n",
              "      <td>1</td>\n",
              "      <td>-0.993467</td>\n",
              "      <td>-0.610591</td>\n",
              "      <td>0</td>\n",
              "    </tr>\n",
              "    <tr>\n",
              "      <th>2</th>\n",
              "      <td>2</td>\n",
              "      <td>-0.834064</td>\n",
              "      <td>0.239236</td>\n",
              "      <td>0</td>\n",
              "    </tr>\n",
              "    <tr>\n",
              "      <th>3</th>\n",
              "      <td>3</td>\n",
              "      <td>-0.136471</td>\n",
              "      <td>0.632003</td>\n",
              "      <td>1</td>\n",
              "    </tr>\n",
              "    <tr>\n",
              "      <th>4</th>\n",
              "      <td>4</td>\n",
              "      <td>0.403887</td>\n",
              "      <td>0.310784</td>\n",
              "      <td>1</td>\n",
              "    </tr>\n",
              "  </tbody>\n",
              "</table>\n",
              "</div>\n",
              "      <button class=\"colab-df-convert\" onclick=\"convertToInteractive('df-97d08369-0af1-4712-9b0f-e9a2462ea201')\"\n",
              "              title=\"Convert this dataframe to an interactive table.\"\n",
              "              style=\"display:none;\">\n",
              "        \n",
              "  <svg xmlns=\"http://www.w3.org/2000/svg\" height=\"24px\"viewBox=\"0 0 24 24\"\n",
              "       width=\"24px\">\n",
              "    <path d=\"M0 0h24v24H0V0z\" fill=\"none\"/>\n",
              "    <path d=\"M18.56 5.44l.94 2.06.94-2.06 2.06-.94-2.06-.94-.94-2.06-.94 2.06-2.06.94zm-11 1L8.5 8.5l.94-2.06 2.06-.94-2.06-.94L8.5 2.5l-.94 2.06-2.06.94zm10 10l.94 2.06.94-2.06 2.06-.94-2.06-.94-.94-2.06-.94 2.06-2.06.94z\"/><path d=\"M17.41 7.96l-1.37-1.37c-.4-.4-.92-.59-1.43-.59-.52 0-1.04.2-1.43.59L10.3 9.45l-7.72 7.72c-.78.78-.78 2.05 0 2.83L4 21.41c.39.39.9.59 1.41.59.51 0 1.02-.2 1.41-.59l7.78-7.78 2.81-2.81c.8-.78.8-2.07 0-2.86zM5.41 20L4 18.59l7.72-7.72 1.47 1.35L5.41 20z\"/>\n",
              "  </svg>\n",
              "      </button>\n",
              "      \n",
              "  <style>\n",
              "    .colab-df-container {\n",
              "      display:flex;\n",
              "      flex-wrap:wrap;\n",
              "      gap: 12px;\n",
              "    }\n",
              "\n",
              "    .colab-df-convert {\n",
              "      background-color: #E8F0FE;\n",
              "      border: none;\n",
              "      border-radius: 50%;\n",
              "      cursor: pointer;\n",
              "      display: none;\n",
              "      fill: #1967D2;\n",
              "      height: 32px;\n",
              "      padding: 0 0 0 0;\n",
              "      width: 32px;\n",
              "    }\n",
              "\n",
              "    .colab-df-convert:hover {\n",
              "      background-color: #E2EBFA;\n",
              "      box-shadow: 0px 1px 2px rgba(60, 64, 67, 0.3), 0px 1px 3px 1px rgba(60, 64, 67, 0.15);\n",
              "      fill: #174EA6;\n",
              "    }\n",
              "\n",
              "    [theme=dark] .colab-df-convert {\n",
              "      background-color: #3B4455;\n",
              "      fill: #D2E3FC;\n",
              "    }\n",
              "\n",
              "    [theme=dark] .colab-df-convert:hover {\n",
              "      background-color: #434B5C;\n",
              "      box-shadow: 0px 1px 3px 1px rgba(0, 0, 0, 0.15);\n",
              "      filter: drop-shadow(0px 1px 2px rgba(0, 0, 0, 0.3));\n",
              "      fill: #FFFFFF;\n",
              "    }\n",
              "  </style>\n",
              "\n",
              "      <script>\n",
              "        const buttonEl =\n",
              "          document.querySelector('#df-97d08369-0af1-4712-9b0f-e9a2462ea201 button.colab-df-convert');\n",
              "        buttonEl.style.display =\n",
              "          google.colab.kernel.accessAllowed ? 'block' : 'none';\n",
              "\n",
              "        async function convertToInteractive(key) {\n",
              "          const element = document.querySelector('#df-97d08369-0af1-4712-9b0f-e9a2462ea201');\n",
              "          const dataTable =\n",
              "            await google.colab.kernel.invokeFunction('convertToInteractive',\n",
              "                                                     [key], {});\n",
              "          if (!dataTable) return;\n",
              "\n",
              "          const docLinkHtml = 'Like what you see? Visit the ' +\n",
              "            '<a target=\"_blank\" href=https://colab.research.google.com/notebooks/data_table.ipynb>data table notebook</a>'\n",
              "            + ' to learn more about interactive tables.';\n",
              "          element.innerHTML = '';\n",
              "          dataTable['output_type'] = 'display_data';\n",
              "          await google.colab.output.renderOutput(dataTable, element);\n",
              "          const docLink = document.createElement('div');\n",
              "          docLink.innerHTML = docLinkHtml;\n",
              "          element.appendChild(docLink);\n",
              "        }\n",
              "      </script>\n",
              "    </div>\n",
              "  </div>\n",
              "  "
            ]
          },
          "metadata": {},
          "execution_count": 19
        }
      ]
    },
    {
      "cell_type": "markdown",
      "source": [
        "Columns in the dataset "
      ],
      "metadata": {
        "id": "ZnngrMpj0CCD"
      }
    },
    {
      "cell_type": "code",
      "source": [
        "d.columns"
      ],
      "metadata": {
        "colab": {
          "base_uri": "https://localhost:8080/"
        },
        "id": "b_Xc8y7sycvE",
        "outputId": "7f7ef3cb-d1a7-4dc1-8267-e348e38c03eb"
      },
      "execution_count": 24,
      "outputs": [
        {
          "output_type": "execute_result",
          "data": {
            "text/plain": [
              "Index(['SNo', 'X_1', 'X_2', 'y '], dtype='object')"
            ]
          },
          "metadata": {},
          "execution_count": 24
        }
      ]
    },
    {
      "cell_type": "markdown",
      "source": [
        "Seperating the input features and target variable"
      ],
      "metadata": {
        "id": "Ms7kb_x50H-Y"
      }
    },
    {
      "cell_type": "code",
      "source": [
        "x=d.drop('y ',axis=1).values\n",
        "y=d['y '].values"
      ],
      "metadata": {
        "id": "_PnEise1qzzE"
      },
      "execution_count": 27,
      "outputs": []
    },
    {
      "cell_type": "markdown",
      "source": [
        "training the model (Logistic Regression)"
      ],
      "metadata": {
        "id": "I43YsNo-0YWJ"
      }
    },
    {
      "cell_type": "code",
      "source": [
        "model = LogisticRegression(C=0.5)\n",
        "model.fit(x,y)"
      ],
      "metadata": {
        "colab": {
          "base_uri": "https://localhost:8080/",
          "height": 74
        },
        "id": "ntaOcs3-qjc0",
        "outputId": "d7a0b49e-20b7-4abe-8e59-dbc44b1413e3"
      },
      "execution_count": 28,
      "outputs": [
        {
          "output_type": "execute_result",
          "data": {
            "text/plain": [
              "LogisticRegression(C=0.5)"
            ],
            "text/html": [
              "<style>#sk-container-id-1 {color: black;background-color: white;}#sk-container-id-1 pre{padding: 0;}#sk-container-id-1 div.sk-toggleable {background-color: white;}#sk-container-id-1 label.sk-toggleable__label {cursor: pointer;display: block;width: 100%;margin-bottom: 0;padding: 0.3em;box-sizing: border-box;text-align: center;}#sk-container-id-1 label.sk-toggleable__label-arrow:before {content: \"▸\";float: left;margin-right: 0.25em;color: #696969;}#sk-container-id-1 label.sk-toggleable__label-arrow:hover:before {color: black;}#sk-container-id-1 div.sk-estimator:hover label.sk-toggleable__label-arrow:before {color: black;}#sk-container-id-1 div.sk-toggleable__content {max-height: 0;max-width: 0;overflow: hidden;text-align: left;background-color: #f0f8ff;}#sk-container-id-1 div.sk-toggleable__content pre {margin: 0.2em;color: black;border-radius: 0.25em;background-color: #f0f8ff;}#sk-container-id-1 input.sk-toggleable__control:checked~div.sk-toggleable__content {max-height: 200px;max-width: 100%;overflow: auto;}#sk-container-id-1 input.sk-toggleable__control:checked~label.sk-toggleable__label-arrow:before {content: \"▾\";}#sk-container-id-1 div.sk-estimator input.sk-toggleable__control:checked~label.sk-toggleable__label {background-color: #d4ebff;}#sk-container-id-1 div.sk-label input.sk-toggleable__control:checked~label.sk-toggleable__label {background-color: #d4ebff;}#sk-container-id-1 input.sk-hidden--visually {border: 0;clip: rect(1px 1px 1px 1px);clip: rect(1px, 1px, 1px, 1px);height: 1px;margin: -1px;overflow: hidden;padding: 0;position: absolute;width: 1px;}#sk-container-id-1 div.sk-estimator {font-family: monospace;background-color: #f0f8ff;border: 1px dotted black;border-radius: 0.25em;box-sizing: border-box;margin-bottom: 0.5em;}#sk-container-id-1 div.sk-estimator:hover {background-color: #d4ebff;}#sk-container-id-1 div.sk-parallel-item::after {content: \"\";width: 100%;border-bottom: 1px solid gray;flex-grow: 1;}#sk-container-id-1 div.sk-label:hover label.sk-toggleable__label {background-color: #d4ebff;}#sk-container-id-1 div.sk-serial::before {content: \"\";position: absolute;border-left: 1px solid gray;box-sizing: border-box;top: 0;bottom: 0;left: 50%;z-index: 0;}#sk-container-id-1 div.sk-serial {display: flex;flex-direction: column;align-items: center;background-color: white;padding-right: 0.2em;padding-left: 0.2em;position: relative;}#sk-container-id-1 div.sk-item {position: relative;z-index: 1;}#sk-container-id-1 div.sk-parallel {display: flex;align-items: stretch;justify-content: center;background-color: white;position: relative;}#sk-container-id-1 div.sk-item::before, #sk-container-id-1 div.sk-parallel-item::before {content: \"\";position: absolute;border-left: 1px solid gray;box-sizing: border-box;top: 0;bottom: 0;left: 50%;z-index: -1;}#sk-container-id-1 div.sk-parallel-item {display: flex;flex-direction: column;z-index: 1;position: relative;background-color: white;}#sk-container-id-1 div.sk-parallel-item:first-child::after {align-self: flex-end;width: 50%;}#sk-container-id-1 div.sk-parallel-item:last-child::after {align-self: flex-start;width: 50%;}#sk-container-id-1 div.sk-parallel-item:only-child::after {width: 0;}#sk-container-id-1 div.sk-dashed-wrapped {border: 1px dashed gray;margin: 0 0.4em 0.5em 0.4em;box-sizing: border-box;padding-bottom: 0.4em;background-color: white;}#sk-container-id-1 div.sk-label label {font-family: monospace;font-weight: bold;display: inline-block;line-height: 1.2em;}#sk-container-id-1 div.sk-label-container {text-align: center;}#sk-container-id-1 div.sk-container {/* jupyter's `normalize.less` sets `[hidden] { display: none; }` but bootstrap.min.css set `[hidden] { display: none !important; }` so we also need the `!important` here to be able to override the default hidden behavior on the sphinx rendered scikit-learn.org. See: https://github.com/scikit-learn/scikit-learn/issues/21755 */display: inline-block !important;position: relative;}#sk-container-id-1 div.sk-text-repr-fallback {display: none;}</style><div id=\"sk-container-id-1\" class=\"sk-top-container\"><div class=\"sk-text-repr-fallback\"><pre>LogisticRegression(C=0.5)</pre><b>In a Jupyter environment, please rerun this cell to show the HTML representation or trust the notebook. <br />On GitHub, the HTML representation is unable to render, please try loading this page with nbviewer.org.</b></div><div class=\"sk-container\" hidden><div class=\"sk-item\"><div class=\"sk-estimator sk-toggleable\"><input class=\"sk-toggleable__control sk-hidden--visually\" id=\"sk-estimator-id-1\" type=\"checkbox\" checked><label for=\"sk-estimator-id-1\" class=\"sk-toggleable__label sk-toggleable__label-arrow\">LogisticRegression</label><div class=\"sk-toggleable__content\"><pre>LogisticRegression(C=0.5)</pre></div></div></div></div></div>"
            ]
          },
          "metadata": {},
          "execution_count": 28
        }
      ]
    },
    {
      "cell_type": "markdown",
      "source": [
        "Attributes of the model"
      ],
      "metadata": {
        "id": "FOObZ52G1EjB"
      }
    },
    {
      "cell_type": "code",
      "source": [
        "model.classes_"
      ],
      "metadata": {
        "colab": {
          "base_uri": "https://localhost:8080/"
        },
        "id": "316h0NRBzG76",
        "outputId": "d2ed6172-a393-43e3-ca62-b0ccff88c2f1"
      },
      "execution_count": 29,
      "outputs": [
        {
          "output_type": "execute_result",
          "data": {
            "text/plain": [
              "array([0, 1])"
            ]
          },
          "metadata": {},
          "execution_count": 29
        }
      ]
    },
    {
      "cell_type": "code",
      "source": [
        "model.intercept_"
      ],
      "metadata": {
        "colab": {
          "base_uri": "https://localhost:8080/"
        },
        "id": "SPi6LU-hzKdy",
        "outputId": "0ab8c74e-c7b5-4053-f349-6516b0ecfdf0"
      },
      "execution_count": 31,
      "outputs": [
        {
          "output_type": "execute_result",
          "data": {
            "text/plain": [
              "array([-0.08598911])"
            ]
          },
          "metadata": {},
          "execution_count": 31
        }
      ]
    },
    {
      "cell_type": "code",
      "source": [
        "model.coef_"
      ],
      "metadata": {
        "colab": {
          "base_uri": "https://localhost:8080/"
        },
        "id": "lcPOAFg1zPIr",
        "outputId": "ac503d2e-0350-4c77-d774-1d08d03982fc"
      },
      "execution_count": 32,
      "outputs": [
        {
          "output_type": "execute_result",
          "data": {
            "text/plain": [
              "array([[0.01196218, 2.15076236, 1.91593607]])"
            ]
          },
          "metadata": {},
          "execution_count": 32
        }
      ]
    },
    {
      "cell_type": "markdown",
      "source": [
        "Evaluating the model "
      ],
      "metadata": {
        "id": "1tRWiLjj1IWZ"
      }
    },
    {
      "cell_type": "code",
      "source": [
        "model.predict_proba(x)"
      ],
      "metadata": {
        "colab": {
          "base_uri": "https://localhost:8080/"
        },
        "id": "HEinY7nOzTui",
        "outputId": "301c4990-2664-4fa7-db03-fd3f198b70d8"
      },
      "execution_count": 33,
      "outputs": [
        {
          "output_type": "execute_result",
          "data": {
            "text/plain": [
              "array([[0.7701962 , 0.2298038 ],\n",
              "       [0.96709246, 0.03290754],\n",
              "       [0.8017994 , 0.1982006 ],\n",
              "       [0.29582548, 0.70417452],\n",
              "       [0.19372786, 0.80627214],\n",
              "       [0.84854709, 0.15145291],\n",
              "       [0.17758201, 0.82241799],\n",
              "       [0.59899902, 0.40100098],\n",
              "       [0.12230518, 0.87769482],\n",
              "       [0.49172072, 0.50827928],\n",
              "       [0.38894349, 0.61105651],\n",
              "       [0.77720776, 0.22279224],\n",
              "       [0.14339268, 0.85660732],\n",
              "       [0.1003403 , 0.8996597 ],\n",
              "       [0.7006768 , 0.2993232 ],\n",
              "       [0.31205042, 0.68794958],\n",
              "       [0.57774081, 0.42225919],\n",
              "       [0.6706356 , 0.3293644 ],\n",
              "       [0.11261902, 0.88738098],\n",
              "       [0.51996754, 0.48003246],\n",
              "       [0.716297  , 0.283703  ],\n",
              "       [0.14807305, 0.85192695],\n",
              "       [0.83237571, 0.16762429],\n",
              "       [0.94571825, 0.05428175],\n",
              "       [0.22457726, 0.77542274],\n",
              "       [0.41551659, 0.58448341],\n",
              "       [0.48819897, 0.51180103],\n",
              "       [0.37331141, 0.62668859],\n",
              "       [0.68043682, 0.31956318],\n",
              "       [0.79203573, 0.20796427],\n",
              "       [0.37608349, 0.62391651],\n",
              "       [0.24693735, 0.75306265],\n",
              "       [0.64218211, 0.35781789],\n",
              "       [0.55547619, 0.44452381],\n",
              "       [0.69878477, 0.30121523],\n",
              "       [0.73218899, 0.26781101],\n",
              "       [0.41396408, 0.58603592],\n",
              "       [0.22844666, 0.77155334],\n",
              "       [0.58043398, 0.41956602],\n",
              "       [0.71635649, 0.28364351],\n",
              "       [0.25193789, 0.74806211],\n",
              "       [0.80613076, 0.19386924],\n",
              "       [0.09262943, 0.90737057],\n",
              "       [0.46283215, 0.53716785],\n",
              "       [0.81427291, 0.18572709],\n",
              "       [0.60513678, 0.39486322],\n",
              "       [0.17643552, 0.82356448],\n",
              "       [0.02332495, 0.97667505],\n",
              "       [0.10820023, 0.89179977],\n",
              "       [0.02970208, 0.97029792],\n",
              "       [0.12280248, 0.87719752],\n",
              "       [0.0808521 , 0.9191479 ],\n",
              "       [0.28568719, 0.71431281],\n",
              "       [0.82793176, 0.17206824],\n",
              "       [0.76527557, 0.23472443],\n",
              "       [0.65733646, 0.34266354],\n",
              "       [0.05563673, 0.94436327],\n",
              "       [0.41758453, 0.58241547],\n",
              "       [0.18737829, 0.81262171],\n",
              "       [0.14036448, 0.85963552],\n",
              "       [0.07898299, 0.92101701],\n",
              "       [0.89836513, 0.10163487],\n",
              "       [0.78751566, 0.21248434],\n",
              "       [0.91158572, 0.08841428],\n",
              "       [0.61638928, 0.38361072],\n",
              "       [0.63085876, 0.36914124],\n",
              "       [0.26213211, 0.73786789],\n",
              "       [0.7279963 , 0.2720037 ],\n",
              "       [0.03879725, 0.96120275],\n",
              "       [0.34516131, 0.65483869],\n",
              "       [0.91967955, 0.08032045],\n",
              "       [0.18940596, 0.81059404],\n",
              "       [0.04745451, 0.95254549],\n",
              "       [0.27291419, 0.72708581],\n",
              "       [0.2597486 , 0.7402514 ],\n",
              "       [0.03259741, 0.96740259],\n",
              "       [0.25622435, 0.74377565],\n",
              "       [0.36271404, 0.63728596],\n",
              "       [0.66313851, 0.33686149],\n",
              "       [0.33430205, 0.66569795],\n",
              "       [0.06702561, 0.93297439],\n",
              "       [0.16016574, 0.83983426],\n",
              "       [0.24132927, 0.75867073],\n",
              "       [0.46537291, 0.53462709],\n",
              "       [0.03416725, 0.96583275],\n",
              "       [0.08956791, 0.91043209],\n",
              "       [0.41950825, 0.58049175],\n",
              "       [0.04538543, 0.95461457],\n",
              "       [0.02654363, 0.97345637],\n",
              "       [0.50514217, 0.49485783],\n",
              "       [0.0297368 , 0.9702632 ],\n",
              "       [0.02076892, 0.97923108],\n",
              "       [0.76957144, 0.23042856],\n",
              "       [0.0604275 , 0.9395725 ],\n",
              "       [0.18451231, 0.81548769],\n",
              "       [0.21827449, 0.78172551],\n",
              "       [0.28506194, 0.71493806],\n",
              "       [0.03166999, 0.96833001],\n",
              "       [0.37631893, 0.62368107],\n",
              "       [0.04326546, 0.95673454]])"
            ]
          },
          "metadata": {},
          "execution_count": 33
        }
      ]
    },
    {
      "cell_type": "markdown",
      "source": [
        "Actual Predictions"
      ],
      "metadata": {
        "id": "eg6lZ2DX1UvA"
      }
    },
    {
      "cell_type": "code",
      "source": [
        "y_pred = model.predict(x)\n",
        "print(y_pred)"
      ],
      "metadata": {
        "colab": {
          "base_uri": "https://localhost:8080/"
        },
        "id": "RayRkuLDzZ7w",
        "outputId": "a7e41dcf-f7cc-4e05-9434-5206fbc32e42"
      },
      "execution_count": 34,
      "outputs": [
        {
          "output_type": "stream",
          "name": "stdout",
          "text": [
            "[0 0 0 1 1 0 1 0 1 1 1 0 1 1 0 1 0 0 1 0 0 1 0 0 1 1 1 1 0 0 1 1 0 0 0 0 1\n",
            " 1 0 0 1 0 1 1 0 0 1 1 1 1 1 1 1 0 0 0 1 1 1 1 1 0 0 0 0 0 1 0 1 1 0 1 1 1\n",
            " 1 1 1 1 0 1 1 1 1 1 1 1 1 1 1 0 1 1 0 1 1 1 1 1 1 1]\n"
          ]
        }
      ]
    },
    {
      "cell_type": "code",
      "source": [
        "model.score(x, y)"
      ],
      "metadata": {
        "colab": {
          "base_uri": "https://localhost:8080/"
        },
        "id": "QECXkVmIzdwZ",
        "outputId": "2e438c91-e45f-4c4d-c89c-5a722665dfca"
      },
      "execution_count": 35,
      "outputs": [
        {
          "output_type": "execute_result",
          "data": {
            "text/plain": [
              "0.89"
            ]
          },
          "metadata": {},
          "execution_count": 35
        }
      ]
    },
    {
      "cell_type": "markdown",
      "source": [
        "Constructing Confusion matrix"
      ],
      "metadata": {
        "id": "2qjS_7ma1bf7"
      }
    },
    {
      "cell_type": "code",
      "source": [
        "confusion_matrix(y, y_pred)"
      ],
      "metadata": {
        "colab": {
          "base_uri": "https://localhost:8080/"
        },
        "id": "Kf5C8wBkzhAV",
        "outputId": "94c90129-73d8-4bbf-cdb2-b5011aa74b56"
      },
      "execution_count": 36,
      "outputs": [
        {
          "output_type": "execute_result",
          "data": {
            "text/plain": [
              "array([[33,  7],\n",
              "       [ 4, 56]])"
            ]
          },
          "metadata": {},
          "execution_count": 36
        }
      ]
    },
    {
      "cell_type": "markdown",
      "source": [
        "Visualization of Confusion matrix"
      ],
      "metadata": {
        "id": "KqhANE4Z1inM"
      }
    },
    {
      "cell_type": "code",
      "source": [
        "cm = confusion_matrix(y, y_pred)\n",
        "\n",
        "fig, ax = plt.subplots(figsize=(8, 8))\n",
        "ax.imshow(cm)\n",
        "ax.grid(False)\n",
        "ax.xaxis.set(ticks=(0, 1), ticklabels=('Predicted 0s', 'Predicted 1s'))\n",
        "ax.yaxis.set(ticks=(0, 1), ticklabels=('Actual 0s', 'Actual 1s'))\n",
        "ax.set_ylim(1.5, -0.5)\n",
        "for i in range(2):\n",
        "    for j in range(2):\n",
        "        ax.text(j, i, cm[i, j], ha='center', va='center', color='red')\n",
        "plt.show()"
      ],
      "metadata": {
        "colab": {
          "base_uri": "https://localhost:8080/",
          "height": 676
        },
        "id": "YEIV-36TzlnJ",
        "outputId": "057b5626-d9e7-4c76-e46c-7f86e791153d"
      },
      "execution_count": 37,
      "outputs": [
        {
          "output_type": "display_data",
          "data": {
            "text/plain": [
              "<Figure size 800x800 with 1 Axes>"
            ],
            "image/png": "[encoded data removed]"
          },
          "metadata": {}
        }
      ]
    },
    {
      "cell_type": "code",
      "source": [
        "print(classification_report(y, y_pred))"
      ],
      "metadata": {
        "colab": {
          "base_uri": "https://localhost:8080/"
        },
        "id": "nP1wTeykzrah",
        "outputId": "92c3c353-76ea-44fa-cdd4-5a6afd28903f"
      },
      "execution_count": 38,
      "outputs": [
        {
          "output_type": "stream",
          "name": "stdout",
          "text": [
            "              precision    recall  f1-score   support\n",
            "\n",
            "           0       0.89      0.82      0.86        40\n",
            "           1       0.89      0.93      0.91        60\n",
            "\n",
            "    accuracy                           0.89       100\n",
            "   macro avg       0.89      0.88      0.88       100\n",
            "weighted avg       0.89      0.89      0.89       100\n",
            "\n"
          ]
        }
      ]
    }
  ]
}